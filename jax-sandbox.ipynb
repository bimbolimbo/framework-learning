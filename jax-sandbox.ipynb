{
 "cells": [
  {
   "cell_type": "code",
   "execution_count": 5,
   "metadata": {},
   "outputs": [],
   "source": [
    "import jax \n",
    "import jax.numpy as jnp\n",
    "import equinox as eqx\n",
    "import optax   \n",
    "import matplotlib.pyplot as plt\n",
    "from typing import List"
   ]
  },
  {
   "cell_type": "code",
   "execution_count": 6,
   "metadata": {},
   "outputs": [],
   "source": [
    "# nr of samples \n",
    "N_SAMPLES = 200\n",
    "\n",
    "# one 1-node input, three 10-node hidden layers, and one 1-node output.\n",
    "LAYERS = [1, 10, 10, 10, 1]\n",
    "\n",
    "# set learning rate \n",
    "LEARNING_RATE = 0.1 \n",
    "\n",
    "# set nr epochs \n",
    "N_EPOCHS = 30_000"
   ]
  },
  {
   "cell_type": "code",
   "execution_count": null,
   "metadata": {},
   "outputs": [],
   "source": [
    "# Data generation. Want to simulate a sinus wave with random feature and random y. \n",
    "\n",
    "# setting up random key so we can reproduce results\n",
    "key = jax.random.key(42)\n",
    "   "
   ]
  },
  {
   "cell_type": "code",
   "execution_count": 11,
   "metadata": {},
   "outputs": [],
   "source": [
    "# want keys for features and target. \n",
    "key, xkey, ykey = jax.random.split(key, 3) "
   ]
  },
  {
   "cell_type": "code",
   "execution_count": 43,
   "metadata": {},
   "outputs": [
    {
     "name": "stdout",
     "output_type": "stream",
     "text": [
      "(200, 1) (200, 1)\n"
     ]
    },
    {
     "data": {
      "text/plain": [
       "<matplotlib.collections.PathCollection at 0x1188f42f0>"
      ]
     },
     "execution_count": 43,
     "metadata": {},
     "output_type": "execute_result"
    },
    {
     "data": {
      "image/png": "[encoded data removed]",
      "text/plain": [
       "<Figure size 640x480 with 1 Axes>"
      ]
     },
     "metadata": {},
     "output_type": "display_data"
    }
   ],
   "source": [
    "  # pick random values between 0-2pi. x-axis is out feature\n",
    "\n",
    "# scale of the noise of y \n",
    "normal_scale = 0.3 \n",
    "\n",
    "# pick N_SAMPLES uniform distributed values in [0,2pi). shape = (samples, features)\n",
    "x_samples = jax.random.uniform(xkey, shape=(N_SAMPLES, 1), minval=0.0, maxval=2.0 *jnp.pi)\n",
    "\n",
    "# evalute sin at x_samples with added scaled normal distributed noise. \n",
    "y_samples = jnp.sin(x_samples) + jax.random.normal(ykey, shape=(N_SAMPLES, 1)) * normal_scale\n",
    "\n",
    "print(x_samples.shape, y_samples.shape)\n",
    "plt.scatter(x_samples, y_samples)"
   ]
  },
  {
   "cell_type": "code",
   "execution_count": 51,
   "metadata": {},
   "outputs": [
    {
     "name": "stdout",
     "output_type": "stream",
     "text": [
      "[1, 10, 10, 10, 1]\n",
      "[1, 10, 10, 10]\n",
      "[10, 10, 10, 1]\n",
      "[(1, 10), (10, 10), (10, 10), (10, 1)]\n"
     ]
    }
   ],
   "source": [
    "print(LAYERS)\n",
    "print(LAYERS[:-1])\n",
    "print(LAYERS[1:])\n",
    "print(list(zip(LAYERS[:-1], LAYERS[1:])))"
   ]
  },
  {
   "cell_type": "code",
   "execution_count": null,
   "metadata": {},
   "outputs": [],
   "source": [
    "# defining a simple feed-forward multi-layered perceptron. \n",
    "\n",
    "class simpleMLP(eqx.Module):\n",
    "    layers: List[eqx.nn.Linear]\n",
    "\n",
    "    def __init__(self, list_layer_size, layer_key):\n",
    "        self.layers = []\n",
    "\n",
    "        # layer transitions \n",
    "        for (in_size,out_size) in zip(list_layer_size[:-1], list_layer_size[1:]):\n",
    "            key, subkey = jax.random.split(key) # default split into two keys\n",
    "            self.layers.append(\n",
    "                eqx.nn.Linear(in_size,out_size, use_bias=True, key = subkey)\n",
    "            )\n",
    "         \n",
    "         def __call__(self, x):\n",
    "             \n",
    "             \n",
    "\n"
   ]
  }
 ],
 "metadata": {
  "kernelspec": {
   "display_name": ".venv",
   "language": "python",
   "name": "python3"
  },
  "language_info": {
   "codemirror_mode": {
    "name": "ipython",
    "version": 3
   },
   "file_extension": ".py",
   "mimetype": "text/x-python",
   "name": "python",
   "nbconvert_exporter": "python",
   "pygments_lexer": "ipython3",
   "version": "3.12.7"
  }
 },
 "nbformat": 4,
 "nbformat_minor": 2
}
